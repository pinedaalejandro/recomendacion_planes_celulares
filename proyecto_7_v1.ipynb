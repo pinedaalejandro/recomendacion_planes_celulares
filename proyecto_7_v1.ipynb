{
 "cells": [
  {
   "cell_type": "markdown",
   "id": "94e620db",
   "metadata": {},
   "source": [
    "# Introducción\n",
    "\n",
    "## Modelo para análisis y recomendación de planes óptimos de Megaline\n",
    "\n",
    "La compañía móvil Megaline no está satisfecha al ver que muchos de sus clientes utilizan planes heredados. Quieren desarrollar un modelo que pueda analizar el comportamiento de los clientes y recomendar uno de los nuevos planes de Megaline: Smart o Ultra.\n",
    "\n",
    "## Objetivo\n",
    "\n",
    "Desarrolla un modelo con la mayor exactitud posible. En este proyecto, el umbral de exactitud es 0.75. Usa el dataset para comprobar la exactitud.\n",
    "\n",
    "### Tabla de contenidos\n",
    "- Introducción: Presentación del problema y objetivo.\n",
    "- Importanción, examinación y preparación de los datos: Se analiza la información proporcionada en el archivo `users_behavior.csv` para asegurarnos de que los datos no tengan alguna inconsistencia.\n",
    "- Preparación de datos para entrenamiento, validación y testeo del modelo de clasificación: Se preparan los registros para poder ser consumidos por los modelos de clasificación y poder ejecutarlos evaluando su precisión.\n",
    "- Prueba de cordura de los modelos: Evaluación de los distintos modelos para verificar le cumplimiento del objetivo del proyecto.\n",
    "- Conclusiones.\n",
    "\n",
    "# Importanción, examinación y preparación de los datos\n",
    "\n",
    "Iniciaremos importando y abriendo el archivo csv `users_behavior.csv` ubicado en la carpeta `datasets` para conocer cual es la información que nos proporciona acerca de los clientes y validar alguna irregularidad que pudiera llegar a tener."
   ]
  },
  {
   "cell_type": "code",
   "execution_count": 1,
   "id": "9c8b452d",
   "metadata": {},
   "outputs": [],
   "source": [
    "# Importando librerias\n",
    "import pandas as pd\n",
    "from sklearn.model_selection import train_test_split\n",
    "from sklearn.ensemble import RandomForestClassifier\n",
    "from sklearn.linear_model import LogisticRegression\n",
    "from sklearn.tree import DecisionTreeClassifier\n",
    "from sklearn.dummy import DummyClassifier"
   ]
  },
  {
   "cell_type": "code",
   "execution_count": 2,
   "id": "0b8700d4",
   "metadata": {},
   "outputs": [
    {
     "data": {
      "text/html": [
       "<div>\n",
       "<style scoped>\n",
       "    .dataframe tbody tr th:only-of-type {\n",
       "        vertical-align: middle;\n",
       "    }\n",
       "\n",
       "    .dataframe tbody tr th {\n",
       "        vertical-align: top;\n",
       "    }\n",
       "\n",
       "    .dataframe thead th {\n",
       "        text-align: right;\n",
       "    }\n",
       "</style>\n",
       "<table border=\"1\" class=\"dataframe\">\n",
       "  <thead>\n",
       "    <tr style=\"text-align: right;\">\n",
       "      <th></th>\n",
       "      <th>calls</th>\n",
       "      <th>minutes</th>\n",
       "      <th>messages</th>\n",
       "      <th>mb_used</th>\n",
       "      <th>is_ultra</th>\n",
       "    </tr>\n",
       "  </thead>\n",
       "  <tbody>\n",
       "    <tr>\n",
       "      <th>0</th>\n",
       "      <td>40.0</td>\n",
       "      <td>311.90</td>\n",
       "      <td>83.0</td>\n",
       "      <td>19915.42</td>\n",
       "      <td>0</td>\n",
       "    </tr>\n",
       "    <tr>\n",
       "      <th>1</th>\n",
       "      <td>85.0</td>\n",
       "      <td>516.75</td>\n",
       "      <td>56.0</td>\n",
       "      <td>22696.96</td>\n",
       "      <td>0</td>\n",
       "    </tr>\n",
       "    <tr>\n",
       "      <th>2</th>\n",
       "      <td>77.0</td>\n",
       "      <td>467.66</td>\n",
       "      <td>86.0</td>\n",
       "      <td>21060.45</td>\n",
       "      <td>0</td>\n",
       "    </tr>\n",
       "    <tr>\n",
       "      <th>3</th>\n",
       "      <td>106.0</td>\n",
       "      <td>745.53</td>\n",
       "      <td>81.0</td>\n",
       "      <td>8437.39</td>\n",
       "      <td>1</td>\n",
       "    </tr>\n",
       "    <tr>\n",
       "      <th>4</th>\n",
       "      <td>66.0</td>\n",
       "      <td>418.74</td>\n",
       "      <td>1.0</td>\n",
       "      <td>14502.75</td>\n",
       "      <td>0</td>\n",
       "    </tr>\n",
       "    <tr>\n",
       "      <th>...</th>\n",
       "      <td>...</td>\n",
       "      <td>...</td>\n",
       "      <td>...</td>\n",
       "      <td>...</td>\n",
       "      <td>...</td>\n",
       "    </tr>\n",
       "    <tr>\n",
       "      <th>3209</th>\n",
       "      <td>122.0</td>\n",
       "      <td>910.98</td>\n",
       "      <td>20.0</td>\n",
       "      <td>35124.90</td>\n",
       "      <td>1</td>\n",
       "    </tr>\n",
       "    <tr>\n",
       "      <th>3210</th>\n",
       "      <td>25.0</td>\n",
       "      <td>190.36</td>\n",
       "      <td>0.0</td>\n",
       "      <td>3275.61</td>\n",
       "      <td>0</td>\n",
       "    </tr>\n",
       "    <tr>\n",
       "      <th>3211</th>\n",
       "      <td>97.0</td>\n",
       "      <td>634.44</td>\n",
       "      <td>70.0</td>\n",
       "      <td>13974.06</td>\n",
       "      <td>0</td>\n",
       "    </tr>\n",
       "    <tr>\n",
       "      <th>3212</th>\n",
       "      <td>64.0</td>\n",
       "      <td>462.32</td>\n",
       "      <td>90.0</td>\n",
       "      <td>31239.78</td>\n",
       "      <td>0</td>\n",
       "    </tr>\n",
       "    <tr>\n",
       "      <th>3213</th>\n",
       "      <td>80.0</td>\n",
       "      <td>566.09</td>\n",
       "      <td>6.0</td>\n",
       "      <td>29480.52</td>\n",
       "      <td>1</td>\n",
       "    </tr>\n",
       "  </tbody>\n",
       "</table>\n",
       "<p>3214 rows × 5 columns</p>\n",
       "</div>"
      ],
      "text/plain": [
       "      calls  minutes  messages   mb_used  is_ultra\n",
       "0      40.0   311.90      83.0  19915.42         0\n",
       "1      85.0   516.75      56.0  22696.96         0\n",
       "2      77.0   467.66      86.0  21060.45         0\n",
       "3     106.0   745.53      81.0   8437.39         1\n",
       "4      66.0   418.74       1.0  14502.75         0\n",
       "...     ...      ...       ...       ...       ...\n",
       "3209  122.0   910.98      20.0  35124.90         1\n",
       "3210   25.0   190.36       0.0   3275.61         0\n",
       "3211   97.0   634.44      70.0  13974.06         0\n",
       "3212   64.0   462.32      90.0  31239.78         0\n",
       "3213   80.0   566.09       6.0  29480.52         1\n",
       "\n",
       "[3214 rows x 5 columns]"
      ]
     },
     "execution_count": 2,
     "metadata": {},
     "output_type": "execute_result"
    }
   ],
   "source": [
    "# Leyendo e imprimiendo archivo \"CSV\"\n",
    "df = pd.read_csv('datasets/users_behavior.csv')\n",
    "df"
   ]
  },
  {
   "cell_type": "markdown",
   "id": "9d205835",
   "metadata": {},
   "source": [
    "Para el análisis de la información primero presentaremos la información de `df` lo cual nos ayudara a validar dos cosas:\n",
    "- Nombre descriptivo de las columnas.\n",
    "- El tipo de dato de cada columna.\n",
    "- Encontrar valores nulos presentes en `df`."
   ]
  },
  {
   "cell_type": "code",
   "execution_count": 3,
   "id": "3fd40e63",
   "metadata": {},
   "outputs": [
    {
     "name": "stdout",
     "output_type": "stream",
     "text": [
      "<class 'pandas.core.frame.DataFrame'>\n",
      "RangeIndex: 3214 entries, 0 to 3213\n",
      "Data columns (total 5 columns):\n",
      " #   Column    Non-Null Count  Dtype  \n",
      "---  ------    --------------  -----  \n",
      " 0   calls     3214 non-null   float64\n",
      " 1   minutes   3214 non-null   float64\n",
      " 2   messages  3214 non-null   float64\n",
      " 3   mb_used   3214 non-null   float64\n",
      " 4   is_ultra  3214 non-null   int64  \n",
      "dtypes: float64(4), int64(1)\n",
      "memory usage: 125.7 KB\n"
     ]
    }
   ],
   "source": [
    "# Información de \"df\"\n",
    "df.info()"
   ]
  },
  {
   "cell_type": "markdown",
   "id": "89b08615",
   "metadata": {},
   "source": [
    "Como podemos observar el tipo de dato corresponde correctamente de acuerdo a la columna y la información que nos brinda, siendo `calls`, `minutes`, `messages`, `mb_used` tipo de dato `float64`, es decir, valores continuos que en el caso de las columnas `messages` y `calls` debe ser cambiado el tipo de dato de `float64` a `int64` y para el caso de `is_ultra`, podemos concluir que el nombre descriptivo no corresponde con la información ofrecida, por tal motivo debe ser cambiado por `plan`, así también aunque vemos un tipo de dato `int64` que de entrada parecería continuo, este es discreto pues nos indica el plan que tiene el usuario (`1 para Ultra y 0 para Smart`)."
   ]
  },
  {
   "cell_type": "code",
   "execution_count": 4,
   "id": "f4a055ca",
   "metadata": {},
   "outputs": [
    {
     "name": "stdout",
     "output_type": "stream",
     "text": [
      "<class 'pandas.core.frame.DataFrame'>\n",
      "RangeIndex: 3214 entries, 0 to 3213\n",
      "Data columns (total 5 columns):\n",
      " #   Column    Non-Null Count  Dtype  \n",
      "---  ------    --------------  -----  \n",
      " 0   calls     3214 non-null   int64  \n",
      " 1   minutes   3214 non-null   float64\n",
      " 2   messages  3214 non-null   int64  \n",
      " 3   mb_used   3214 non-null   float64\n",
      " 4   plan      3214 non-null   int64  \n",
      "dtypes: float64(2), int64(3)\n",
      "memory usage: 125.7 KB\n"
     ]
    }
   ],
   "source": [
    "# Cambiando el nombre de la columna \"is_ultra\" por \"plan\" y el tipo de dato de \"messages\" y \"calls\" de \"float64\" a \"int64\"\n",
    "df.rename(columns={'is_ultra':'plan'}, inplace=True)\n",
    "df['calls'] = df['calls'].astype('int64')\n",
    "df['messages'] = df['messages'].astype('int64')\n",
    "df.info()"
   ]
  },
  {
   "cell_type": "markdown",
   "id": "3787bcc4",
   "metadata": {},
   "source": [
    "Como anteriormente se menciono, tenemos 4 variables (independientes) con valores continuos y una variable (discreta) con valores categóricos de acuerdo a la información proporcionada. Por tal motivo, validaremos dicha información en el `df` para asegurarnos de que así sea."
   ]
  },
  {
   "cell_type": "code",
   "execution_count": 5,
   "id": "b7f28326",
   "metadata": {},
   "outputs": [
    {
     "name": "stdout",
     "output_type": "stream",
     "text": [
      "Variables independientes.\n",
      "Calls: 184\n",
      "Minutes: 3144\n",
      "Messages: 180\n",
      "Mb_used: 3203\n",
      "------------\n",
      "Variable dependiente.\n",
      "Plan: 2\n"
     ]
    }
   ],
   "source": [
    "# Validando variables continuas y discretas\n",
    "print('Variables independientes.')\n",
    "print('Calls:',len(df['calls'].unique()))\n",
    "print('Minutes:',len(df['minutes'].unique()))\n",
    "print('Messages:',len(df['messages'].unique()))\n",
    "print('Mb_used:',len(df['mb_used'].unique()))\n",
    "\n",
    "print('------------')\n",
    "print('Variable dependiente.')\n",
    "print('Plan:',len(df['plan'].unique()))\n"
   ]
  },
  {
   "cell_type": "markdown",
   "id": "02d2b13f",
   "metadata": {},
   "source": [
    "De acuerdo con la información podemos asumir que las variables independientes y dependiente son correctas. Por tal motivo verificaremos si hay existencia de registros duplicados en `df`."
   ]
  },
  {
   "cell_type": "code",
   "execution_count": 6,
   "id": "9f683ee0",
   "metadata": {},
   "outputs": [
    {
     "data": {
      "text/plain": [
       "0"
      ]
     },
     "execution_count": 6,
     "metadata": {},
     "output_type": "execute_result"
    }
   ],
   "source": [
    "# Verificando duplicidad de registros\n",
    "df.duplicated().sum()"
   ]
  },
  {
   "cell_type": "markdown",
   "id": "096cee7a",
   "metadata": {},
   "source": [
    "Con lo anterior confirmamos la no existencia de registros duplicados y podemos concluir que nuestros datos estan preparados para ser analizados y procesados."
   ]
  },
  {
   "cell_type": "markdown",
   "id": "bee39331",
   "metadata": {},
   "source": [
    "# Preparación de datos para entrenamiento, validación y testeo del modelo de clasificación\n",
    "\n",
    "De acuerdo con las características del problema, los modelos adecuados para poder trabajar son aquellos que permiten la clasificación de datos y podemos estar seguros de esto pues el objetivo es identificar de acuerdo a las características del `df` cuál es el plan más adecuado para el usuario de acuerdo a su consumo.\n",
    "\n",
    "Por esta razón podemos hacer dicha evaluación haciendo uso de tres modelos de clasificación distintos que son:\n",
    "- Bosques aleatorios.\n",
    "- Regresión logística.\n",
    "\n",
    "Un aspecto importante a considerar es que para poder considerar el modelo con el mejor algoritmo de acuerdo a la problematica, debemos considerar la `exactitud` del modelo que se refiere a la precisión con la que categoriza de manera correcta los resultados de acuerdo a lo información proporcionada y por otro lado la `velocidad` que no es más que la demanda de recursos computacionales que requiera el algoritmo para procesar la información y proporcionar un resultado.\n",
    "\n",
    "Por otro lado, también debemos considerar otro factor importante que es el `sobreajuste` y el `subajuste` que no es más que, respectivamente, la tendencia a un valor en específico no importando la información de entrada que se proporcione o la tendencia a la pseudoaleatoriedad en las respuestas proporcionadas, esto quiere decir que no hay un patrón o patrones a seguir a la hora de procesar y proporcionar respuestas.\n",
    "\n",
    "\n",
    "## Segmentación de datos\n",
    "\n",
    "Comenzaremos por la segmentación de los datos fuente en:\n",
    "- Conjunto de entrenamiento que es un `60%` del set de datos.\n",
    "- Conjunto de validación que es un `20%` del set de datos.\n",
    "- Conjunto de pruebas que es un `20%` del set de datos.\n",
    "\n",
    "Primero debemos generar dos conjuntos de datos, el primero llamado `features` contendrá todas las variables independientes, es decir, aquellos datos que se proporcionan como información para un resultado y el segundo llamado `target` que es el resultado de los datos `features`."
   ]
  },
  {
   "cell_type": "code",
   "execution_count": 7,
   "id": "a6eb13e9",
   "metadata": {},
   "outputs": [],
   "source": [
    "# Separando \"features\" y \"target\"\n",
    "features = df.iloc[:,:-1]\n",
    "target = df['plan']"
   ]
  },
  {
   "cell_type": "markdown",
   "id": "5289fca4",
   "metadata": {},
   "source": [
    "Al tener estos valores, ya podemos generar los conjuntos de datos correspondientes para cada etapa a la que será sometido el modelo óptimo a la problemática. La idea principal consiste en hacer uso 2 veces de la función `train_test_split`; la primera creara dos conjuntos que son el conjunto de `entrenamiento` y un `conjuto auxiliar` que consiste de ser el equivalente a los conjuntos de `validación` y `pruebas` (`40%` del set de datos). Posteriormente este `conjunto auxiliar` será divido en dos conjutos por la mitad lo que equivaldría al `20%` y `20%` del set de datos total."
   ]
  },
  {
   "cell_type": "code",
   "execution_count": 8,
   "id": "002f3031",
   "metadata": {},
   "outputs": [],
   "source": [
    "# Generando conjuntos de datos\n",
    "X_train, X_auxiliar, y_train, y_auxiliar = train_test_split(features,target,test_size=0.4,random_state=12345)\n",
    "X_valid, X_test, y_valid, y_test = train_test_split(X_auxiliar,y_auxiliar,test_size=0.5,random_state=12345)"
   ]
  },
  {
   "cell_type": "markdown",
   "id": "97e06a22",
   "metadata": {},
   "source": [
    "Ahora validaremos que los conjuntos contengan la cantidad correcta de registros respecto del total."
   ]
  },
  {
   "cell_type": "code",
   "execution_count": 9,
   "id": "4a9aeae1",
   "metadata": {},
   "outputs": [
    {
     "name": "stdout",
     "output_type": "stream",
     "text": [
      "Training features: 0.5998755444928439 Traning target: 0.5998755444928439\n",
      "Valid features: 0.2000622277535781 Valid target: 0.2000622277535781\n",
      "Test features: 0.2000622277535781 Test target: 0.2000622277535781\n"
     ]
    }
   ],
   "source": [
    "# Validando porcentaje de los conjuntos\n",
    "print('Training features:',len(X_train)/len(features),'Traning target:',len(y_train)/len(target))\n",
    "print('Valid features:',len(X_valid)/len(features),'Valid target:',len(y_valid)/len(target))\n",
    "print('Test features:',len(X_test)/len(features),'Test target:',len(y_test)/len(target))"
   ]
  },
  {
   "cell_type": "markdown",
   "id": "1eba9c9e",
   "metadata": {},
   "source": [
    "De acuerdo al resultado, podemos observar que cada conjunto contiene la cantidad que le debe corresponder, es decir, el `conjunto de entrenamiento` con un `60%`, el `conjunto de validación` con un `20%` y el `conjunto de prueba` con un `20%` del total de registros.\n",
    "\n",
    "## Testeo de los modelos de clasificación\n",
    "\n",
    "Cada uno de los modelos de clasificación cuenta con ventajas y desventajas, por tal motivo, ejecutaremos pruebas de rendimiento para cada modelo con la intención de evaluar su calidad al momento de predecir resultados basado en su entrenamiento.\n",
    "\n",
    "### Modelo: Bosques aleatorios\n",
    "\n",
    "Comenzaremos con el modelo de `Bosques aleatorios`. Para este modelo debemos considerar sus hiper parámetros que son aquellos datos específicos que permiten modelar de forma correcta la estructura de entrenamiento de acuerdo con los datos de entrada que se le proporcionen (`features`).\n",
    "\n",
    "En específico nos centraremos en los siguiente hiper parámetros:\n",
    "- `n_estimators`: número de árboles a implementar en el modelo.\n",
    "- `criterion`: función que permite cuantificar la calidad de los segmentos generados.\n",
    "- `max_depth`: máxima profundidad del árbol.\n",
    "- `min_samples_split`: la cantidad mínima de muestras requeridas para dividir un nodo interno.\n",
    "- `min_samples_leaf`: la cantidad mínima de muestras para poder estar en un nodo.\n",
    "\n",
    "Procederemos con la generación del modelo evaluando la calidad de predicción."
   ]
  },
  {
   "cell_type": "code",
   "execution_count": 10,
   "id": "c481569d",
   "metadata": {},
   "outputs": [
    {
     "name": "stdout",
     "output_type": "stream",
     "text": [
      "Accuracy del mejor modelo en el conjunto de validación (n_estimators = 160, criterion = entropy, [max_depth,min_samples_split,min_samples_leaf] = 14 ): 0.807153965785381\n"
     ]
    }
   ],
   "source": [
    "# Creación del modelo\n",
    "best_score = 0\n",
    "best_estimator = 0\n",
    "criterion = ''\n",
    "max_depth = 0\n",
    "\n",
    "criterions = ['gini', 'entropy']\n",
    "for estimators in range(10,201,10):\n",
    "    for crit in criterions:\n",
    "        for rest in range(2,15):\n",
    "            rfc_model = RandomForestClassifier(random_state=12345,\n",
    "                                               n_estimators=estimators,\n",
    "                                               criterion=crit,\n",
    "                                               max_depth=rest,\n",
    "                                               min_samples_split=rest,\n",
    "                                               min_samples_leaf=rest)\n",
    "            rfc_model.fit(X_train,y_train)\n",
    "            score = rfc_model.score(X_valid,y_valid)\n",
    "            if score > best_score:\n",
    "                best_score = score\n",
    "                best_estimator = estimators\n",
    "                criterion = crit\n",
    "                max_depth = rest\n",
    "\n",
    "print(\"Accuracy del mejor modelo en el conjunto de validación (n_estimators = {}, criterion = {}, [max_depth,min_samples_split,min_samples_leaf] = {} ): {}\".format(best_estimator, criterion, rest, best_score))\n",
    "    "
   ]
  },
  {
   "cell_type": "markdown",
   "id": "ab762c89",
   "metadata": {},
   "source": [
    "De acuerdo con el algoritmo, la mejor marca es para `n_estimators = 160`, `criterion = entropy`, `max_depth, min_samples_split y min_samples_leaf = 14` con una precisión del `80%`. Por tal motivo, consideraremos estos valores como los más adecuados para el model de `Bosques aleatorios`. Por esta razón haremos uso de estos valores para sus hiper parámetros."
   ]
  },
  {
   "cell_type": "code",
   "execution_count": 11,
   "id": "a2deb332",
   "metadata": {},
   "outputs": [],
   "source": [
    "# Construyendo el modelo final de \"bosques aleatorios\"\n",
    "rfc_model = RandomForestClassifier(random_state=12345,\n",
    "                                   n_estimators=160, \n",
    "                                   criterion='entropy', \n",
    "                                   max_depth=14,\n",
    "                                   min_samples_split=14,\n",
    "                                   min_samples_leaf=14)\n",
    "rfc_model.fit(X_train,y_train)\n",
    "rfc_score = rfc_model.score(X_valid,y_valid)"
   ]
  },
  {
   "cell_type": "markdown",
   "id": "fdcfb4bf",
   "metadata": {},
   "source": [
    "Posteriormente trabajaremos con el algoritmo de clasificación de `regresión logística`.\n",
    "\n",
    "### Modelo: Regresión logística\n",
    "\n",
    "Este modelo requiere de un hiper parámetro a considerar para un buen modelado y es `solver`, que ayuda al agoritmo a reconocer de mejor forma las características de entrada que se le proporcionan; como opciones tenemos las siguientes:\n",
    "- `liblinear`: Se aplica cuando se tiene un dataset pequeño ademas de una categorización binaria, es decir, uno contra el resto de resultados.\n",
    "- `newton-cg`, `sag`, `saga` and `lbfgs`: Se aplican cuando se tienen problemas de multiclase, es decir, que la clasificación va más allá de 2 clases de resultados.\n",
    "- `newton-cholesky`: Se usa cuando dentro del mismo dataset hay información categorica.\n",
    "\n",
    "Por lo anterior y debido a las características de los datos de entrada podemos determinar que `liblinear` es la opción adecuada por lo siguiente:\n",
    "- Tenemos un dataset reducido.\n",
    "- Tenemos una categorización binaria, lo que podría considerarse una categoría contra el resto.\n",
    "\n",
    "Una vez teniendo estos datos justificados, iniciaremos con el modelado."
   ]
  },
  {
   "cell_type": "code",
   "execution_count": 12,
   "id": "dd2226b3",
   "metadata": {},
   "outputs": [
    {
     "name": "stdout",
     "output_type": "stream",
     "text": [
      "La precisión obtenida en el algoritmo de \"Regresión logística es:\" 0.7091757387247278\n"
     ]
    }
   ],
   "source": [
    "# Creación del modelo\n",
    "lr_model = LogisticRegression(random_state=12345,solver='liblinear')\n",
    "lr_model.fit(X_train,y_train)\n",
    "lr_score = lr_model.score(X_valid,y_valid)\n",
    "print('La precisión obtenida en el algoritmo de \"Regresión logística es:\"',lr_score)"
   ]
  },
  {
   "cell_type": "markdown",
   "id": "9114a3f7",
   "metadata": {},
   "source": [
    "Como podemos ver, el modelo con mejor precisión hasta este punto es `bosques aleatorios` sin embargo hay un modelo más que debemos tomar en consideración pues puede ser aplicable tanto para problemas de regresión como de clasificación y es el caso de `árboles de decisión`.\n",
    "\n",
    "### Modelo: Árboles de decisión\n",
    "\n",
    "Para este modelo, debemos considerar la máxima profundidad del árbol a construir por el modelo y es el hiper parámetro `max_depth`."
   ]
  },
  {
   "cell_type": "code",
   "execution_count": 13,
   "id": "7add7dd6",
   "metadata": {},
   "outputs": [
    {
     "name": "stdout",
     "output_type": "stream",
     "text": [
      "Accuracy del mejor modelo en el conjunto de validación (max_depth = 6, criterion = entropy, [min_samples_split, min_samples_leaf] = 4): 0.7900466562986003\n"
     ]
    }
   ],
   "source": [
    "# Creación del modelo\n",
    "best_score = 0\n",
    "best_depth = 0\n",
    "criterion = ''\n",
    "min_samples_split = 0\n",
    "criterions = [\"gini\", \"entropy\"]\n",
    "\n",
    "for depth in range(1,15):\n",
    "    for crit in criterions:\n",
    "        for rest in range(2,15):\n",
    "            dtc_model = DecisionTreeClassifier(random_state=12345,\n",
    "                                               max_depth=depth, criterion=crit, \n",
    "                                               min_samples_split=rest, min_samples_leaf=rest)\n",
    "            dtc_model.fit(X_train,y_train)\n",
    "            score = dtc_model.score(X_valid,y_valid)\n",
    "            if score > best_score:\n",
    "                best_score = score\n",
    "                best_depth = depth\n",
    "                criterion = crit\n",
    "                min_samples_split = rest\n",
    "        \n",
    "print(\"Accuracy del mejor modelo en el conjunto de validación (max_depth = {}, criterion = {}, [min_samples_split, min_samples_leaf] = {}): {}\".format(best_depth, criterion, min_samples_split, best_score))\n",
    "    "
   ]
  },
  {
   "cell_type": "markdown",
   "id": "5b967b7d",
   "metadata": {},
   "source": [
    "De acuerdo con la información que nos proporciona este algoritmo, la máxima profundidad que arroja el mejor resultado se genera a partir de `max_depth = 6`, `criterion = entropy`, `min_samples_split y min_samples_leaf = 4` dando una eficiencia del `79%`. Construiremos el modelo con este parámetro fijo."
   ]
  },
  {
   "cell_type": "code",
   "execution_count": 14,
   "id": "edbd3cdc",
   "metadata": {},
   "outputs": [],
   "source": [
    "# Construyendo el modelo final de \"árboles de decisión\"\n",
    "dtc_model = DecisionTreeClassifier(random_state=12345,max_depth=6,criterion='entropy',\n",
    "                                   min_samples_split=4, min_samples_leaf=4)\n",
    "dtc_model.fit(X_train,y_train)\n",
    "dtc_score = dtc_model.score(X_valid,y_valid)"
   ]
  },
  {
   "cell_type": "code",
   "execution_count": 15,
   "id": "bf281daf",
   "metadata": {},
   "outputs": [
    {
     "data": {
      "text/html": [
       "<div>\n",
       "<style scoped>\n",
       "    .dataframe tbody tr th:only-of-type {\n",
       "        vertical-align: middle;\n",
       "    }\n",
       "\n",
       "    .dataframe tbody tr th {\n",
       "        vertical-align: top;\n",
       "    }\n",
       "\n",
       "    .dataframe thead th {\n",
       "        text-align: right;\n",
       "    }\n",
       "</style>\n",
       "<table border=\"1\" class=\"dataframe\">\n",
       "  <thead>\n",
       "    <tr style=\"text-align: right;\">\n",
       "      <th></th>\n",
       "      <th>Bosques aleatorios</th>\n",
       "      <th>Árboles de decisión</th>\n",
       "      <th>Regresión logística</th>\n",
       "    </tr>\n",
       "  </thead>\n",
       "  <tbody>\n",
       "    <tr>\n",
       "      <th>0</th>\n",
       "      <td>79.62675</td>\n",
       "      <td>79.004666</td>\n",
       "      <td>70.917574</td>\n",
       "    </tr>\n",
       "  </tbody>\n",
       "</table>\n",
       "</div>"
      ],
      "text/plain": [
       "   Bosques aleatorios  Árboles de decisión  Regresión logística\n",
       "0            79.62675            79.004666            70.917574"
      ]
     },
     "execution_count": 15,
     "metadata": {},
     "output_type": "execute_result"
    }
   ],
   "source": [
    "# Graficando resultados comparativos entre los tres modelos\n",
    "results = pd.DataFrame(data={'Bosques aleatorios': rfc_score*100,\n",
    "                             'Árboles de decisión': dtc_score*100,\n",
    "                             'Regresión logística': lr_score*100},index=[0])\n",
    "results"
   ]
  },
  {
   "cell_type": "code",
   "execution_count": 16,
   "id": "41ed0184",
   "metadata": {},
   "outputs": [
    {
     "data": {
      "text/plain": [
       "<AxesSubplot:ylabel='% score'>"
      ]
     },
     "execution_count": 16,
     "metadata": {},
     "output_type": "execute_result"
    },
    {
     "data": {
      "image/png": "[encoded data removed]",
      "text/plain": [
       "<Figure size 432x432 with 1 Axes>"
      ]
     },
     "metadata": {
      "needs_background": "light"
     },
     "output_type": "display_data"
    }
   ],
   "source": [
    "# Graficando resultados\n",
    "results.plot.bar(grid=True,figsize=(6,6),ylabel='% score')"
   ]
  },
  {
   "cell_type": "markdown",
   "id": "cb4d606d",
   "metadata": {},
   "source": [
    "De acuerdo con el gráfico, el modelo de `Bosques aleatorios` se posiciona como el modelo con la mayor exactitud posible con hiper parámetros `n_estimators = 160` de acuerdo con el `conjunto de validación`. El hecho de no tener un desempeño aun más alto puede deberse a la cantidad de registros con los que se esta entrenando el modelo, puesto que de los `3214` unicamente se están utilizando `1928` registros para su entrenamiento.\n",
    "\n",
    "Ahora procederemos con la evaluación de los modelos haciendo uso del `conjunto de prueba`, mantendremos la misma dinámica para concer el desempeño de cada uno."
   ]
  },
  {
   "cell_type": "code",
   "execution_count": 17,
   "id": "726c3eb1",
   "metadata": {},
   "outputs": [],
   "source": [
    "# Ejecutando y evaluando modelos con el \"conjunto de pruebas\"\n",
    "rfc_test_score = rfc_model.score(X_test,y_test)\n",
    "lr_test_score = lr_model.score(X_test,y_test)\n",
    "dtc_test_score = dtc_model.score(X_test,y_test)"
   ]
  },
  {
   "cell_type": "code",
   "execution_count": 18,
   "id": "0f72cb41",
   "metadata": {},
   "outputs": [
    {
     "data": {
      "text/html": [
       "<div>\n",
       "<style scoped>\n",
       "    .dataframe tbody tr th:only-of-type {\n",
       "        vertical-align: middle;\n",
       "    }\n",
       "\n",
       "    .dataframe tbody tr th {\n",
       "        vertical-align: top;\n",
       "    }\n",
       "\n",
       "    .dataframe thead th {\n",
       "        text-align: right;\n",
       "    }\n",
       "</style>\n",
       "<table border=\"1\" class=\"dataframe\">\n",
       "  <thead>\n",
       "    <tr style=\"text-align: right;\">\n",
       "      <th></th>\n",
       "      <th>Bosques aleatorios</th>\n",
       "      <th>Árboles de decisión</th>\n",
       "      <th>Regresión logística</th>\n",
       "    </tr>\n",
       "  </thead>\n",
       "  <tbody>\n",
       "    <tr>\n",
       "      <th>0</th>\n",
       "      <td>80.404355</td>\n",
       "      <td>77.916019</td>\n",
       "      <td>68.895801</td>\n",
       "    </tr>\n",
       "  </tbody>\n",
       "</table>\n",
       "</div>"
      ],
      "text/plain": [
       "   Bosques aleatorios  Árboles de decisión  Regresión logística\n",
       "0           80.404355            77.916019            68.895801"
      ]
     },
     "execution_count": 18,
     "metadata": {},
     "output_type": "execute_result"
    }
   ],
   "source": [
    "# Creando \"new_results\" a partir de la evaluación del \"conjunto de pruebas\"\n",
    "new_results = pd.DataFrame(data={'Bosques aleatorios': rfc_test_score*100,\n",
    "                                 'Árboles de decisión': dtc_test_score*100,\n",
    "                                 'Regresión logística': lr_test_score*100,},index=[0])\n",
    "new_results"
   ]
  },
  {
   "cell_type": "code",
   "execution_count": 19,
   "id": "4a9d7d79",
   "metadata": {},
   "outputs": [
    {
     "data": {
      "text/plain": [
       "<AxesSubplot:ylabel='% score'>"
      ]
     },
     "execution_count": 19,
     "metadata": {},
     "output_type": "execute_result"
    },
    {
     "data": {
      "image/png": "[encoded data removed]",
      "text/plain": [
       "<Figure size 432x432 with 1 Axes>"
      ]
     },
     "metadata": {
      "needs_background": "light"
     },
     "output_type": "display_data"
    }
   ],
   "source": [
    "# Graficando nuevos resultados\n",
    "new_results.plot.bar(grid=True,figsize=(6,6),ylabel='% score')"
   ]
  },
  {
   "cell_type": "code",
   "execution_count": 20,
   "id": "85e508a3",
   "metadata": {},
   "outputs": [
    {
     "data": {
      "text/html": [
       "<div>\n",
       "<style scoped>\n",
       "    .dataframe tbody tr th:only-of-type {\n",
       "        vertical-align: middle;\n",
       "    }\n",
       "\n",
       "    .dataframe tbody tr th {\n",
       "        vertical-align: top;\n",
       "    }\n",
       "\n",
       "    .dataframe thead th {\n",
       "        text-align: right;\n",
       "    }\n",
       "</style>\n",
       "<table border=\"1\" class=\"dataframe\">\n",
       "  <thead>\n",
       "    <tr style=\"text-align: right;\">\n",
       "      <th></th>\n",
       "      <th>Bosques aleatorios</th>\n",
       "      <th>Regresión logística</th>\n",
       "      <th>Árboles de decisión</th>\n",
       "    </tr>\n",
       "  </thead>\n",
       "  <tbody>\n",
       "    <tr>\n",
       "      <th>Test</th>\n",
       "      <td>80.404355</td>\n",
       "      <td>68.895801</td>\n",
       "      <td>77.916019</td>\n",
       "    </tr>\n",
       "    <tr>\n",
       "      <th>Valid</th>\n",
       "      <td>79.626750</td>\n",
       "      <td>70.917574</td>\n",
       "      <td>79.004666</td>\n",
       "    </tr>\n",
       "  </tbody>\n",
       "</table>\n",
       "</div>"
      ],
      "text/plain": [
       "       Bosques aleatorios  Regresión logística  Árboles de decisión\n",
       "Test            80.404355            68.895801            77.916019\n",
       "Valid           79.626750            70.917574            79.004666"
      ]
     },
     "execution_count": 20,
     "metadata": {},
     "output_type": "execute_result"
    }
   ],
   "source": [
    "pd.DataFrame(data={'Bosques aleatorios': [rfc_test_score*100,rfc_score*100],\n",
    "                   'Regresión logística': [lr_test_score*100,lr_score*100],\n",
    "                   'Árboles de decisión': [dtc_test_score*100,dtc_score*100]},index=[\"Test\",\"Valid\"])"
   ]
  },
  {
   "cell_type": "markdown",
   "id": "c6e1c1a2",
   "metadata": {},
   "source": [
    "De acuerdo con el resultado, podemos observar que en la validación de desempeño de cada modelo, `Bosques aleatorios` se posiciona como el modelo con mejor desempeño de los tres, incluso llegando al punto de que tanto `Regresión logística` como `Árboles de decisión` disminuyerón su desempeño.\n",
    "\n",
    "Una vez sabiendo el desempeño de los distintos modelos, vamos a ejecutar una prueba de cordura con la intención de cumplir el objetivo anteriormente planteado que dice que buscamos una exactitud de al menos `75%`.\n",
    "\n",
    "# Prueba de cordura de los modelos\n",
    "\n",
    "Una prueba de cordura en el desarrollo de software se refiere a un proceso de validación al momento de hacer implementaciones extra a un servicio o aplicación ya existentes, es decir, las pruebas de cordura permiten decidir si las funcionalidades nuevas serán introducidas en el código una vez que se sabe que estas no afectarían las funcionalidades ya implementadas. Basicamente las pruebas de cordura constan de 3 pasos simples:\n",
    "- Identificación: Se deben tener claro cuales son las funcionalidades nuevas y sus características.\n",
    "- Evaluación: Las nuevas fucionalidades son sometidas al proceso de evaluación para validar el correcto funcionamiento de las mismas.\n",
    "- Prueba: Se prueba la funcionalidad del servicio/aplicación nueva para validar su integración.\n",
    "\n",
    "Así también, las pruebas de cordura, son aplicadas bajo las siguientes condiciones:\n",
    "- Debe ser ejecutaba bajo versiones relativamente estables.\n",
    "- No requiere documentación.\n",
    "- Las pruebas de cordura no requieren scripts.\n",
    "- Una cantidad limitada de fucionales son cubiertas por esta prueba.\n",
    "- Usualmente son evaluadas por testers.\n",
    "- Las pruebas de cordura son pruebas estrechas y profundas de tipos de pruebas de regresión.\n",
    "- Actua como jurado respecto a la implementación de la nueva funcionalidad.\n",
    "\n",
    "Para el caso de los modelos implementados anteriormente, haremos uso del modelo `DummyClassifier`, esto nos permitira medir el desempeño de los modelos de machine learning contra un modelo pseudoaleatorio donde el hiper parámetro a considerar es `strategy` con los siguientes valores posibles:\n",
    "- `most_frecuent`: retorna la clase con mayor frecuencia.\n",
    "- `prior`: retorna la clase con mayor prioridad (la de mayor frecuencia).\n",
    "- `stratified`: muestra aleatoriamente vectores one_hot de una distribución multinomial parametrizada por las probabilidades previas de la clase empírica.\n",
    "- `uniform`: genera predicciones aleatorias uniformes de la lista de clases observadas en \"y\".\n",
    "- `constant`: siempre retorna la etiqueta proporcionada por le usuario (no es muy funcional para esta prueba)."
   ]
  },
  {
   "cell_type": "code",
   "execution_count": 21,
   "id": "e97edc69",
   "metadata": {},
   "outputs": [
    {
     "name": "stdout",
     "output_type": "stream",
     "text": [
      "Accuracy del modelo Dummy Classifier en el conjunto de prueba (strategy = most_frequent): 0.6842923794712286\n"
     ]
    }
   ],
   "source": [
    "# Prueba de cordura\n",
    "strategies = ['most_frequent', 'stratified', 'uniform']\n",
    "best_score = 0\n",
    "strategy = ''\n",
    "for strat in strategies:\n",
    "    dc = DummyClassifier(strategy=strat)\n",
    "    dc.fit(X_train,y_train)\n",
    "    score = dc.score(X_test,y_test)\n",
    "    if score > best_score:\n",
    "        best_score = score\n",
    "        strategy = strat\n",
    "        \n",
    "print(\"Accuracy del modelo Dummy Classifier en el conjunto de prueba (strategy = {}): {}\".format(strategy, best_score))"
   ]
  },
  {
   "cell_type": "code",
   "execution_count": 22,
   "id": "2a790500",
   "metadata": {},
   "outputs": [
    {
     "data": {
      "text/html": [
       "<div>\n",
       "<style scoped>\n",
       "    .dataframe tbody tr th:only-of-type {\n",
       "        vertical-align: middle;\n",
       "    }\n",
       "\n",
       "    .dataframe tbody tr th {\n",
       "        vertical-align: top;\n",
       "    }\n",
       "\n",
       "    .dataframe thead th {\n",
       "        text-align: right;\n",
       "    }\n",
       "</style>\n",
       "<table border=\"1\" class=\"dataframe\">\n",
       "  <thead>\n",
       "    <tr style=\"text-align: right;\">\n",
       "      <th></th>\n",
       "      <th>Bosques aleatorios</th>\n",
       "      <th>Regresión logística</th>\n",
       "      <th>Árboles de decisión</th>\n",
       "      <th>Dummy Classifier</th>\n",
       "    </tr>\n",
       "  </thead>\n",
       "  <tbody>\n",
       "    <tr>\n",
       "      <th>Test</th>\n",
       "      <td>80.404355</td>\n",
       "      <td>68.895801</td>\n",
       "      <td>77.916019</td>\n",
       "      <td>68.429238</td>\n",
       "    </tr>\n",
       "  </tbody>\n",
       "</table>\n",
       "</div>"
      ],
      "text/plain": [
       "      Bosques aleatorios  Regresión logística  Árboles de decisión  \\\n",
       "Test           80.404355            68.895801            77.916019   \n",
       "\n",
       "      Dummy Classifier  \n",
       "Test         68.429238  "
      ]
     },
     "execution_count": 22,
     "metadata": {},
     "output_type": "execute_result"
    }
   ],
   "source": [
    "# Creando el modelo con el mejor desempeño\n",
    "dc = DummyClassifier(strategy='most_frequent')\n",
    "dc.fit(X_train,y_train)\n",
    "dc_test_score = dc.score(X_test,y_test)\n",
    "\n",
    "pd.DataFrame(data={'Bosques aleatorios': rfc_test_score*100,\n",
    "                   'Regresión logística': lr_test_score*100,\n",
    "                   'Árboles de decisión': dtc_test_score*100,\n",
    "                   'Dummy Classifier': dc_test_score*100},index=[\"Test\"])"
   ]
  },
  {
   "cell_type": "markdown",
   "id": "3c7c7972",
   "metadata": {},
   "source": [
    "Como podemos observar en la prueba de cordura, todos los modelos superar aunque sea minimamente, el desempeño de `DummyClassifier` lo cual en el estricto sentido podría decirse que cualquier modelo es apto para ser usado en este ejercicio.\n",
    "\n",
    "# Conclusiones\n",
    "\n",
    "Al implementar el modelo de `Bosques aleatorios` observamos una precisión significativa frente a `Regresión logística` y una sutil pero al final de todo precisión superior frente a `Árboles de decisión` con un porcentaje de `80.4%` que es superior al objetivo buscando inicialmente.\n",
    "\n",
    "Este objetivo fue logrado debido a que se considerarón los hiper parámetros de forma correcta, es decir, al asignar `160` a `n_estimators`, `criterion = entropy`, `max_depth, min_samples_split y min_samples_leaf = 14` y `12345` a `random_state` (que es una pseudoaleatoriedad que se mantiene a lo largo de la ejecución) se logro la mayor precisión posible en el modelo implementado. Podemos añadir también que es posible mejorar esta `exactitud` al tomar en cuenta otras hiper parámetros y aumentar la cantidad de registros de entrenamiento pues a mayor volumen de datos, el algoritmo podra construir matematicamente un mejor modelo.\n",
    "\n",
    "Este proyecto me ayudo a sentar las bases de `Machine Learning` permitiendo identificar que tipo de problematica a resolver se tiene dependiendo de los datos proporcionados, así también, hacer el trabajo de preprocesamiento de datos para dejar listo los registros para entrenamiento y testeo, eso en conjunto con los temas de sprint anteriores permitiría construir modelos de inteligencia artificial más eficientes que pueden consumir datos de distintas fuentes o bases de datos y que también podrián ser retroalimentados con datos obtenidos de la web."
   ]
  }
 ],
 "metadata": {
  "kernelspec": {
   "display_name": "Python 3 (ipykernel)",
   "language": "python",
   "name": "python3"
  },
  "language_info": {
   "codemirror_mode": {
    "name": "ipython",
    "version": 3
   },
   "file_extension": ".py",
   "mimetype": "text/x-python",
   "name": "python",
   "nbconvert_exporter": "python",
   "pygments_lexer": "ipython3",
   "version": "3.9.7"
  },
  "toc": {
   "base_numbering": 1,
   "nav_menu": {},
   "number_sections": true,
   "sideBar": true,
   "skip_h1_title": false,
   "title_cell": "Table of Contents",
   "title_sidebar": "Contents",
   "toc_cell": false,
   "toc_position": {},
   "toc_section_display": true,
   "toc_window_display": false
  }
 },
 "nbformat": 4,
 "nbformat_minor": 5
}
